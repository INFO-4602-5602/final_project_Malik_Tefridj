{
 "cells": [
  {
   "cell_type": "code",
   "execution_count": 1,
   "metadata": {},
   "outputs": [],
   "source": [
    "#https://learntocodewith.me/posts/code-for-free/\n",
    "#site that has list of courses\n",
    "#http://programming-motherfucker.com/become.html\n",
    "\n",
    "import requests as re\n",
    "from requests import get\n",
    "from bs4 import BeautifulSoup"
   ]
  },
  {
   "cell_type": "code",
   "execution_count": 2,
   "metadata": {},
   "outputs": [],
   "source": [
    "link = \"https://learntocodewith.me/posts/code-for-free/\"\n",
    "link_get = get(link)\n",
    "soup = BeautifulSoup(link_get.text, 'html.parser')"
   ]
  },
  {
   "cell_type": "code",
   "execution_count": 3,
   "metadata": {},
   "outputs": [],
   "source": [
    "all_text = soup.find(id='general')"
   ]
  },
  {
   "cell_type": "code",
   "execution_count": null,
   "metadata": {},
   "outputs": [],
   "source": []
  },
  {
   "cell_type": "code",
   "execution_count": null,
   "metadata": {},
   "outputs": [],
   "source": [
    "paragraph_header = all_text.find_all('p')\n",
    "collection_sources = {}\n",
    "for line in paragraph_header:\n",
    "    new_line = line.find('strong')\n",
    "    if new_line:\n",
    "        search_link = new_line.a\n",
    "        if search_link:\n",
    "                collection_sources[new_line.text[3:]] = {}\n",
    "                collection_sources[new_line.text[3:]][\"Link\"] = search_link['href']\n",
    "\n",
    "print(len(collection_sources))"
   ]
  },
  {
   "cell_type": "code",
   "execution_count": null,
   "metadata": {},
   "outputs": [],
   "source": [
    "mf_link = get('http://programming-motherfucker.com/become.html')\n",
    "mf_soup = BeautifulSoup(mf_link.text,'html.parser')"
   ]
  },
  {
   "cell_type": "code",
   "execution_count": null,
   "metadata": {},
   "outputs": [],
   "source": [
    "total_table = mf_soup.find('div', {'style': 'text-align: left'})"
   ]
  },
  {
   "cell_type": "code",
   "execution_count": null,
   "metadata": {},
   "outputs": [],
   "source": [
    "headers = total_table.find_next('h3')\n",
    "print(headers)\n",
    "headers = headers.find_next('h3')\n",
    "print(headers)"
   ]
  },
  {
   "cell_type": "code",
   "execution_count": null,
   "metadata": {},
   "outputs": [],
   "source": [
    "print(total_table)"
   ]
  },
  {
   "cell_type": "code",
   "execution_count": null,
   "metadata": {},
   "outputs": [],
   "source": [
    "headers = total_table.find('h3')\n",
    "content = total_table.find('ul')\n",
    "print(headers.text)\n",
    "other_content = content.find_all('li')\n",
    "for x in other_content:\n",
    "        if x.text not in collection_sources:\n",
    "            collection_sources[x.text] = {}\n",
    "            collection_sources[x.text][\"Link\"] = x.a['href']\n",
    "            collection_sources[x.text][\"Topic\"] = headers.text\n",
    "while headers.find_next('h3') != None:\n",
    "    headers = headers.find_next('h3')\n",
    "    content = content.find_next('ul')\n",
    "    other_content = content.find_all('li')\n",
    "    print(headers.text)\n",
    "    for x in other_content:\n",
    "        if x.text not in collection_sources:\n",
    "            collection_sources[x.text] = {}\n",
    "            collection_sources[x.text][\"Link\"] = x.a['href']\n",
    "            collection_sources[x.text][\"Topic\"] = headers.text    "
   ]
  },
  {
   "cell_type": "code",
   "execution_count": null,
   "metadata": {},
   "outputs": [],
   "source": [
    "collection_sources"
   ]
  },
  {
   "cell_type": "code",
   "execution_count": null,
   "metadata": {},
   "outputs": [],
   "source": [
    "import pandas as pd"
   ]
  },
  {
   "cell_type": "code",
   "execution_count": null,
   "metadata": {},
   "outputs": [],
   "source": [
    "new_df = pd.DataFrame.from_dict(collection_sources,orient='index')\n",
    "\n",
    "new_df = new_df.rename(columns={\"\":'Site Name', 'Link':'link'})\n",
    "\n",
    "new_df = new_df.reset_index()\n",
    "\n",
    "new_df = new_df.rename(columns={\"index\":'Site Name', 'Link':'link'})\n",
    "\n"
   ]
  },
  {
   "cell_type": "code",
   "execution_count": null,
   "metadata": {},
   "outputs": [],
   "source": [
    "print(len(new_df))"
   ]
  },
  {
   "cell_type": "code",
   "execution_count": null,
   "metadata": {},
   "outputs": [],
   "source": [
    "new_df.to_csv('all_sites.csv')"
   ]
  },
  {
   "cell_type": "code",
   "execution_count": null,
   "metadata": {},
   "outputs": [],
   "source": []
  }
 ],
 "metadata": {
  "kernelspec": {
   "display_name": "Python 3",
   "language": "python",
   "name": "python3"
  },
  "language_info": {
   "codemirror_mode": {
    "name": "ipython",
    "version": 3
   },
   "file_extension": ".py",
   "mimetype": "text/x-python",
   "name": "python",
   "nbconvert_exporter": "python",
   "pygments_lexer": "ipython3",
   "version": "3.7.3"
  }
 },
 "nbformat": 4,
 "nbformat_minor": 2
}
